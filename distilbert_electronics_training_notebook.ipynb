{
 "cells": [
  {
   "cell_type": "code",
   "execution_count": 1,
   "id": "3273cfe6-486e-47e2-9488-280694605231",
   "metadata": {},
   "outputs": [],
   "source": [
    "#Import genereal requirements and librarys for sentiment analises\n",
    "import pandas as pd\n",
    "import numpy as np\n",
    "import matplotlib.pyplot as plt\n",
    "import seaborn as sns\n",
    "\n",
    "plt.style.use('ggplot')\n",
    "\n",
    "import nltk"
   ]
  },
  {
   "cell_type": "code",
   "execution_count": 2,
   "id": "7ebf9f43-df08-425d-bcb4-80f843ff39f6",
   "metadata": {},
   "outputs": [
    {
     "name": "stdout",
     "output_type": "stream",
     "text": [
      "(1689188, 9)\n",
      "(60000, 9)\n"
     ]
    }
   ],
   "source": [
    "#Read file from json 5million data about electronics and chose 60000  rewiews\n",
    "\n",
    "\n",
    "file_path = \"input/elctronic/Electronics_5.json\"\n",
    "\n",
    "# Read data from JSON\n",
    "df = pd.read_json(file_path, lines=True)\n",
    "\n",
    "print(df.shape)\n",
    "\n",
    "# DataFrame chose 60000\n",
    "df = df.head(60000)\n",
    "\n",
    "print(df.shape)\n"
   ]
  },
  {
   "cell_type": "code",
   "execution_count": 3,
   "id": "c6ccc46e-ae60-4346-bb38-2e9aa32c45da",
   "metadata": {},
   "outputs": [],
   "source": [
    "# Delte coclums from data\n",
    "columns_to_drop = ['unixReviewTime', 'reviewTime', 'asin', 'helpful', 'summary','reviewerName','reviewerID']\n",
    "\n",
    "\n",
    "df = df.drop(columns=columns_to_drop, axis=1, errors='ignore')\n"
   ]
  },
  {
   "cell_type": "code",
   "execution_count": 4,
   "id": "37512714-a708-47ab-a902-dafeb6db041a",
   "metadata": {},
   "outputs": [
    {
     "name": "stdout",
     "output_type": "stream",
     "text": [
      "28\n"
     ]
    }
   ],
   "source": [
    "## Dublicat test\n",
    "print(df.duplicated().sum())"
   ]
  },
  {
   "cell_type": "code",
   "execution_count": 5,
   "id": "940f9d3b-944e-482e-b75e-bc85125fe0a0",
   "metadata": {},
   "outputs": [],
   "source": [
    "\n",
    "\n",
    "# Delte trash simbols and href from rewiew columns reviewText\n",
    "df['reviewText'] = df['reviewText'].str.replace(r'<[^>]+>', '', regex=True)\n",
    "df['reviewText'] = df['reviewText'].str.replace(r'\\b[A-Za-z0-9._%+-]+@[A-Za-z0-9.-]+\\.[A-Z|a-z]{2,}\\b', '', regex=True)\n"
   ]
  },
  {
   "cell_type": "code",
   "execution_count": 6,
   "id": "e41ed6ea-258e-433c-8872-0429aadf2986",
   "metadata": {},
   "outputs": [
    {
     "data": {
      "text/html": [
       "<div>\n",
       "<style scoped>\n",
       "    .dataframe tbody tr th:only-of-type {\n",
       "        vertical-align: middle;\n",
       "    }\n",
       "\n",
       "    .dataframe tbody tr th {\n",
       "        vertical-align: top;\n",
       "    }\n",
       "\n",
       "    .dataframe thead th {\n",
       "        text-align: right;\n",
       "    }\n",
       "</style>\n",
       "<table border=\"1\" class=\"dataframe\">\n",
       "  <thead>\n",
       "    <tr style=\"text-align: right;\">\n",
       "      <th></th>\n",
       "      <th>reviewText</th>\n",
       "      <th>overall</th>\n",
       "    </tr>\n",
       "  </thead>\n",
       "  <tbody>\n",
       "    <tr>\n",
       "      <th>0</th>\n",
       "      <td>We got this GPS for my husband who is an (OTR)...</td>\n",
       "      <td>5</td>\n",
       "    </tr>\n",
       "    <tr>\n",
       "      <th>1</th>\n",
       "      <td>I'm a professional OTR truck driver, and I bou...</td>\n",
       "      <td>1</td>\n",
       "    </tr>\n",
       "    <tr>\n",
       "      <th>2</th>\n",
       "      <td>Well, what can I say.  I've had this unit in m...</td>\n",
       "      <td>3</td>\n",
       "    </tr>\n",
       "    <tr>\n",
       "      <th>3</th>\n",
       "      <td>Not going to write a long review, even thought...</td>\n",
       "      <td>2</td>\n",
       "    </tr>\n",
       "    <tr>\n",
       "      <th>4</th>\n",
       "      <td>I've had mine for a year and here's what we go...</td>\n",
       "      <td>1</td>\n",
       "    </tr>\n",
       "    <tr>\n",
       "      <th>...</th>\n",
       "      <td>...</td>\n",
       "      <td>...</td>\n",
       "    </tr>\n",
       "    <tr>\n",
       "      <th>59995</th>\n",
       "      <td>I found these hurt my ears after 15-20 mins.  ...</td>\n",
       "      <td>3</td>\n",
       "    </tr>\n",
       "    <tr>\n",
       "      <th>59996</th>\n",
       "      <td>This headset was great after I bought it... fo...</td>\n",
       "      <td>1</td>\n",
       "    </tr>\n",
       "    <tr>\n",
       "      <th>59997</th>\n",
       "      <td>I have purchased 2 of these headsets.  One for...</td>\n",
       "      <td>1</td>\n",
       "    </tr>\n",
       "    <tr>\n",
       "      <th>59998</th>\n",
       "      <td>I own webcam with microphone, speakers and opt...</td>\n",
       "      <td>4</td>\n",
       "    </tr>\n",
       "    <tr>\n",
       "      <th>59999</th>\n",
       "      <td>I bought this to use with my Skype (free inter...</td>\n",
       "      <td>1</td>\n",
       "    </tr>\n",
       "  </tbody>\n",
       "</table>\n",
       "<p>60000 rows × 2 columns</p>\n",
       "</div>"
      ],
      "text/plain": [
       "                                              reviewText  overall\n",
       "0      We got this GPS for my husband who is an (OTR)...        5\n",
       "1      I'm a professional OTR truck driver, and I bou...        1\n",
       "2      Well, what can I say.  I've had this unit in m...        3\n",
       "3      Not going to write a long review, even thought...        2\n",
       "4      I've had mine for a year and here's what we go...        1\n",
       "...                                                  ...      ...\n",
       "59995  I found these hurt my ears after 15-20 mins.  ...        3\n",
       "59996  This headset was great after I bought it... fo...        1\n",
       "59997  I have purchased 2 of these headsets.  One for...        1\n",
       "59998  I own webcam with microphone, speakers and opt...        4\n",
       "59999  I bought this to use with my Skype (free inter...        1\n",
       "\n",
       "[60000 rows x 2 columns]"
      ]
     },
     "execution_count": 6,
     "metadata": {},
     "output_type": "execute_result"
    }
   ],
   "source": [
    "df"
   ]
  },
  {
   "cell_type": "code",
   "execution_count": 7,
   "id": "20561fc2-f368-400d-8b2d-3ddc35642612",
   "metadata": {},
   "outputs": [
    {
     "name": "stdout",
     "output_type": "stream",
     "text": [
      "                                          reviewText  overall\n",
      "0  We got this GPS for my husband who is an (OTR)...        4\n",
      "1  I'm a professional OTR truck driver, and I bou...        0\n",
      "2  Well, what can I say.  I've had this unit in m...        2\n",
      "3  Not going to write a long review, even thought...        1\n",
      "4  I've had mine for a year and here's what we go...        0\n"
     ]
    }
   ],
   "source": [
    "# Assume your DataFrame is named df and the column with ratings is named 'rating'\n",
    "\n",
    "# Function to classify sentiment based on rating\n",
    "def classify_sentiment(rating):\n",
    "    if rating >= 5:  # Ratings 5 and above are considered positive\n",
    "        return 4\n",
    "    elif rating == 4:  # Rating 4 is considered neutral\n",
    "        return 3\n",
    "    elif rating == 3:  # Rating 3 is considered neutral\n",
    "        return 2\n",
    "    elif rating == 2:  # Ratings 1 and 2 are considered negative\n",
    "        return 1\n",
    "    elif rating == 1:  # Ratings 1 and 2 are considered negative\n",
    "        return 0\n",
    "\n",
    "# Apply the function to the ratings column and save results in a new column 'sentiment'\n",
    "df['overall'] = df['overall'].apply(classify_sentiment)\n",
    "\n",
    "# Check the first few rows of the DataFrame to see the results\n",
    "print(df.head())\n"
   ]
  },
  {
   "cell_type": "code",
   "execution_count": 8,
   "id": "db10834b-f164-4df1-994f-fa95ffffb849",
   "metadata": {},
   "outputs": [
    {
     "data": {
      "image/png": "[encoded data removed]",
      "text/plain": [
       "<Figure size 1000x500 with 1 Axes>"
      ]
     },
     "metadata": {},
     "output_type": "display_data"
    }
   ],
   "source": [
    "##Cheek data by sentiment\n",
    "ax = df['overall'].value_counts().sort_index()\\\n",
    "        .plot(kind='bar',\n",
    "        title='Count of Reviews by stars',\n",
    "        figsize=(10,5))\n",
    "\n",
    "ax.set_xlabel(\"Reviews sentiment\")\n",
    "plt.show()"
   ]
  },
  {
   "cell_type": "code",
   "execution_count": 9,
   "id": "33036a4f-d6c7-4134-b369-5adfc5ec997d",
   "metadata": {},
   "outputs": [
    {
     "name": "stdout",
     "output_type": "stream",
     "text": [
      "overall\n",
      "2    4500\n",
      "0    3000\n",
      "3    3000\n",
      "4    3000\n",
      "1    2500\n",
      "Name: count, dtype: int64\n"
     ]
    }
   ],
   "source": [
    "# Reducing the dataset of positive reviews to 2500\n",
    "# Assume your DataFrame is named df and the column with sentiment labels is named 'sentiment'\n",
    "\n",
    "# Splitting the dataset by sentiment classes\n",
    "\n",
    "positive_reviews_5 = df[df['overall'] == 4]\n",
    "positive_reviews_4 = df[df['overall'] == 3]\n",
    "neutral_reviews_3 = df[df['overall'] == 2]\n",
    "neutral_reviews_2 = df[df['overall'] == 1]\n",
    "negative_reviews_1 = df[df['overall'] == 0]\n",
    "\n",
    "# educing the number of  reviews\n",
    "\n",
    "positive_downsampled2 = positive_reviews_5.sample(n=3000, random_state=42)\n",
    "\n",
    "positive_downsampled = positive_reviews_4.sample(n=3000, random_state=42)\n",
    "\n",
    "neutral_reviews_3_downsampled = neutral_reviews_3.sample(n=4500, random_state=42)\n",
    "\n",
    "negative_reviews_2_downsampled = neutral_reviews_2.sample(n=2500, random_state=42)\n",
    "\n",
    "negative_reviews_1_downsampled = negative_reviews_1.sample(n=3000, random_state=42)\n",
    "\n",
    "# Combining the downsampled positive reviews with neutral and negative reviews\n",
    "\n",
    "balanced_df = pd.concat([negative_reviews_1_downsampled,negative_reviews_2_downsampled,neutral_reviews_3_downsampled,positive_downsampled,positive_downsampled2])\n",
    "\n",
    "# Shuffling the data\n",
    "balanced_df = balanced_df.sample(frac=1, random_state=42).reset_index(drop=True)\n",
    "\n",
    "# Checking the new distribution\n",
    "\n",
    "print(balanced_df['overall'].value_counts())"
   ]
  },
  {
   "cell_type": "code",
   "execution_count": 10,
   "id": "dede5f13-ab96-4b3b-9ced-ea6acf39012e",
   "metadata": {},
   "outputs": [
    {
     "name": "stdout",
     "output_type": "stream",
     "text": [
      "4500\n"
     ]
    }
   ],
   "source": [
    "count_class_2 = balanced_df[balanced_df['overall'] == 2].shape[0]\n",
    "print(count_class_2)"
   ]
  },
  {
   "cell_type": "code",
   "execution_count": 11,
   "id": "33d83909-9d1d-4474-826e-a3d3f8f49b24",
   "metadata": {},
   "outputs": [],
   "source": [
    "balanced_df.rename(columns={'overall': 'sentiment'}, inplace=True)"
   ]
  },
  {
   "cell_type": "code",
   "execution_count": 12,
   "id": "cc2daf2c-e332-4f62-8e5e-08c40341300e",
   "metadata": {},
   "outputs": [
    {
     "data": {
      "image/png": "[encoded data removed]",
      "text/plain": [
       "<Figure size 1000x500 with 1 Axes>"
      ]
     },
     "metadata": {},
     "output_type": "display_data"
    }
   ],
   "source": [
    "##Check new data by stars \n",
    "ax = balanced_df['sentiment'].value_counts().sort_index()\\\n",
    "        .plot(kind='bar',\n",
    "        title='Count of Reviews by stars',\n",
    "        figsize=(10,5))\n",
    "\n",
    "ax.set_xlabel(\"Reviews sentiment\")\n",
    "plt.show()"
   ]
  },
  {
   "cell_type": "code",
   "execution_count": 13,
   "id": "108386c2-9e1f-46d9-8dcf-d41bcd3fc41d",
   "metadata": {},
   "outputs": [],
   "source": [
    "from sklearn.model_selection import train_test_split\n",
    "# Splitting data into training and testing samples\n",
    "train_df, test_df = train_test_split(balanced_df, test_size=0.2, random_state=42, stratify=balanced_df['sentiment'])\n",
    "\n"
   ]
  },
  {
   "cell_type": "code",
   "execution_count": 14,
   "id": "544a3ed5-0342-4077-9c9c-811ea9a311a0",
   "metadata": {},
   "outputs": [],
   "source": [
    "import pandas as pd\n",
    "from transformers import AutoTokenizer\n",
    "\n",
    "# Assume train_df is your DataFrame and 'reviewText' is the column with text to be tokenized\n",
    "# Removing rows with missing values in the 'reviewText' column\n",
    "train_df = train_df.dropna(subset=['reviewText'])\n",
    "\n",
    "# Ensuring all data in 'reviewText' is of string type\n",
    "train_df['reviewText'] = train_df['reviewText'].astype(str)\n",
    "\n",
    "# Loading the tokenizer for DistilBERT\n",
    "tokenizer = AutoTokenizer.from_pretrained('distilbert-base-uncased')\n",
    "\n",
    "# Tokenizing the texts\n",
    "tokens = tokenizer(train_df['reviewText'].tolist(), padding=True, truncation=True, return_tensors=\"pt\")\n"
   ]
  },
  {
   "cell_type": "code",
   "execution_count": 15,
   "id": "b58d86c7-d80a-4afa-ab2e-6a3110875cbe",
   "metadata": {},
   "outputs": [],
   "source": [
    "import pandas as pd\n",
    "from transformers import AutoTokenizer\n",
    "\n",
    "# Assume test_df is your DataFrame and 'reviewText' is the column with text to be tokenized\n",
    "# Removing rows with missing values in the 'reviewText' column\n",
    "test_df = test_df.dropna(subset=['reviewText'])\n",
    "\n",
    "# Ensuring all data in 'reviewText' is of string type\n",
    "\n",
    "test_df['reviewText'] = test_df['reviewText'].astype(str)\n",
    "\n",
    "\n",
    "# Loading the tokenizer for DistilBERT\n",
    "\n",
    "tokenizer = AutoTokenizer.from_pretrained('distilbert-base-uncased')\n",
    "\n",
    "# Tokenizing the texts\n",
    "tokens1 = tokenizer(test_df['reviewText'].tolist(), padding=True, truncation=True, return_tensors=\"pt\")\n"
   ]
  },
  {
   "cell_type": "code",
   "execution_count": 16,
   "id": "48c8d6c3-da30-463a-aef4-fe1be0e37bc7",
   "metadata": {},
   "outputs": [
    {
     "name": "stdout",
     "output_type": "stream",
     "text": [
      "dict_keys(['input_ids', 'attention_mask'])\n"
     ]
    }
   ],
   "source": [
    "print(tokens.keys())"
   ]
  },
  {
   "cell_type": "code",
   "execution_count": 17,
   "id": "185c4002-e2a4-4fe2-b056-81fb73b77d05",
   "metadata": {},
   "outputs": [
    {
     "name": "stdout",
     "output_type": "stream",
     "text": [
      "reviewText    Ok - I only get 5 pages for $11.99.  My DVB80 ...\n",
      "sentiment                                                     0\n",
      "Name: 820, dtype: object\n"
     ]
    }
   ],
   "source": [
    "if 820 in train_df.index:\n",
    "    print(train_df.loc[820])\n",
    "else:\n",
    "    print(\"Check element with index.\")"
   ]
  },
  {
   "cell_type": "code",
   "execution_count": 18,
   "id": "442b380e-be0c-4e5f-8468-6d56596714b8",
   "metadata": {},
   "outputs": [
    {
     "name": "stdout",
     "output_type": "stream",
     "text": [
      "12800\n"
     ]
    }
   ],
   "source": [
    "print(len(train_df))\n"
   ]
  },
  {
   "cell_type": "code",
   "execution_count": 19,
   "id": "5fcecb74-27dd-4c10-a9ef-e40c5515aa4a",
   "metadata": {},
   "outputs": [
    {
     "name": "stderr",
     "output_type": "stream",
     "text": [
      "Some weights of DistilBertForSequenceClassification were not initialized from the model checkpoint at distilbert-base-uncased and are newly initialized: ['classifier.bias', 'pre_classifier.bias', 'pre_classifier.weight', 'classifier.weight']\n",
      "You should probably TRAIN this model on a down-stream task to be able to use it for predictions and inference.\n"
     ]
    }
   ],
   "source": [
    "from transformers import DistilBertForSequenceClassification\n",
    "# Loading model DistilBERT for classifications\n",
    "model = DistilBertForSequenceClassification.from_pretrained('distilbert-base-uncased', num_labels=5)\n"
   ]
  },
  {
   "cell_type": "code",
   "execution_count": 20,
   "id": "17678f35-0a67-45d9-ba18-8aa20276fae8",
   "metadata": {},
   "outputs": [],
   "source": [
    "import torch\n",
    "\n",
    "class MyDataset(torch.utils.data.Dataset):\n",
    "    def __init__(self, encodings, labels):\n",
    "        self.encodings = encodings\n",
    "        self.labels = labels\n",
    "\n",
    "    def __getitem__(self, idx):\n",
    "        item = {key: val[idx].clone().detach() for key, val in self.encodings.items()}\n",
    "        item['labels'] = torch.tensor(self.labels[idx])\n",
    "        return item\n",
    "\n",
    "    def __len__(self):\n",
    "        return len(self.labels)\n",
    "\n",
    "# created Dataset for training nad test\n",
    "train_dataset = MyDataset(tokens, train_df['sentiment'].tolist())\n",
    "test_dataset = MyDataset(tokens1, test_df['sentiment'].tolist())\n"
   ]
  },
  {
   "cell_type": "code",
   "execution_count": 21,
   "id": "7a40fc3c-29d3-4115-ab5f-e9b067498db7",
   "metadata": {},
   "outputs": [
    {
     "name": "stderr",
     "output_type": "stream",
     "text": [
      "comet_ml is installed but `COMET_API_KEY` is not set.\n"
     ]
    }
   ],
   "source": [
    "## Training parameters\n",
    "from transformers import TrainingArguments, Trainer\n",
    "\n",
    "training_args = TrainingArguments(\n",
    "    output_dir='./results',          # directory to save the model\n",
    "    num_train_epochs=3,              # number of training epochs\n",
    "    per_device_train_batch_size=16,  # batch size for training\n",
    "    per_device_eval_batch_size=16,   # batch size for evaluation\n",
    "    warmup_steps=500,                # number of warmup steps\n",
    "    weight_decay=0.01,               # weight decay for regularization\n",
    "    logging_dir='./logs',            # directory for logs\n",
    ")\n",
    "\n",
    "trainer = Trainer(\n",
    "    model=model,\n",
    "    args=training_args,\n",
    "    train_dataset=train_dataset,  # your training dataset\n",
    "    eval_dataset=test_dataset     # your evaluation dataset\n",
    ")\n",
    "\n"
   ]
  },
  {
   "cell_type": "code",
   "execution_count": null,
   "id": "d8f7da79-4c4b-43da-adce-db244689d842",
   "metadata": {},
   "outputs": [],
   "source": [
    "trainer.train()"
   ]
  },
  {
   "cell_type": "raw",
   "id": "caafd127-4643-407c-874b-e7833a3950f1",
   "metadata": {},
   "source": [
    "### THE END OF TRAINING DISTILBERT ###\n",
    "You can save model "
   ]
  },
  {
   "cell_type": "code",
   "execution_count": null,
   "id": "fc4dd81f-04d6-4288-8b82-f7a94dea64bc",
   "metadata": {},
   "outputs": [],
   "source": [
    "model.save_pretrained('./your_model')"
   ]
  },
  {
   "cell_type": "code",
   "execution_count": 3,
   "id": "251cbe47-2800-4878-aca3-a6412429e16d",
   "metadata": {},
   "outputs": [
    {
     "ename": "NameError",
     "evalue": "name 'train_df' is not defined",
     "output_type": "error",
     "traceback": [
      "\u001b[1;31m---------------------------------------------------------------------------\u001b[0m",
      "\u001b[1;31mNameError\u001b[0m                                 Traceback (most recent call last)",
      "Cell \u001b[1;32mIn[3], line 1\u001b[0m\n\u001b[1;32m----> 1\u001b[0m train_df \u001b[38;5;241m=\u001b[39m \u001b[43mtrain_df\u001b[49m\u001b[38;5;241m.\u001b[39mreset_index(drop\u001b[38;5;241m=\u001b[39m\u001b[38;5;28;01mTrue\u001b[39;00m)\n",
      "\u001b[1;31mNameError\u001b[0m: name 'train_df' is not defined"
     ]
    }
   ],
   "source": [
    "train_df = train_df.reset_index(drop=True)\n"
   ]
  },
  {
   "cell_type": "code",
   "execution_count": 4,
   "id": "c8b43c29-e5a7-49e0-aa15-ca4a01b37515",
   "metadata": {},
   "outputs": [
    {
     "ename": "NameError",
     "evalue": "name 'train_df' is not defined",
     "output_type": "error",
     "traceback": [
      "\u001b[1;31m---------------------------------------------------------------------------\u001b[0m",
      "\u001b[1;31mNameError\u001b[0m                                 Traceback (most recent call last)",
      "Cell \u001b[1;32mIn[4], line 1\u001b[0m\n\u001b[1;32m----> 1\u001b[0m \u001b[43mtrain_df\u001b[49m\u001b[38;5;241m.\u001b[39mreset_index(drop\u001b[38;5;241m=\u001b[39m\u001b[38;5;28;01mTrue\u001b[39;00m, inplace\u001b[38;5;241m=\u001b[39m\u001b[38;5;28;01mTrue\u001b[39;00m)\n",
      "\u001b[1;31mNameError\u001b[0m: name 'train_df' is not defined"
     ]
    }
   ],
   "source": [
    "train_df.reset_index(drop=True, inplace=True)\n"
   ]
  },
  {
   "cell_type": "code",
   "execution_count": 24,
   "id": "dd56e65a-7601-45cc-b5e4-c0a64d5b2972",
   "metadata": {},
   "outputs": [
    {
     "name": "stdout",
     "output_type": "stream",
     "text": [
      "GPU is available.\n",
      "Current CUDA device: NVIDIA GeForce RTX 3050 Laptop GPU\n"
     ]
    }
   ],
   "source": [
    "import torch\n",
    "\n",
    "if torch.cuda.is_available():\n",
    "    print(\"GPU is available.\")\n",
    "    print(\"Current CUDA device:\", torch.cuda.get_device_name(torch.cuda.current_device()))\n",
    "else:\n",
    "    print(\"GPU is not available, using CPU instead.\")\n"
   ]
  },
  {
   "cell_type": "code",
   "execution_count": null,
   "id": "d8c7ac9d-0742-468a-b4a9-3b42666a1521",
   "metadata": {},
   "outputs": [],
   "source": []
  }
 ],
 "metadata": {
  "kernelspec": {
   "display_name": "Python 3 (ipykernel)",
   "language": "python",
   "name": "python3"
  },
  "language_info": {
   "codemirror_mode": {
    "name": "ipython",
    "version": 3
   },
   "file_extension": ".py",
   "mimetype": "text/x-python",
   "name": "python",
   "nbconvert_exporter": "python",
   "pygments_lexer": "ipython3",
   "version": "3.10.9"
  }
 },
 "nbformat": 4,
 "nbformat_minor": 5
}
